{
 "cells": [
  {
   "cell_type": "code",
   "execution_count": 1,
   "metadata": {},
   "outputs": [
    {
     "name": "stdout",
     "output_type": "stream",
     "text": [
      "<class 'pandas.core.frame.DataFrame'>\n",
      "RangeIndex: 70601 entries, 0 to 70600\n",
      "Data columns (total 21 columns):\n",
      " #   Column                     Non-Null Count  Dtype              \n",
      "---  ------                     --------------  -----              \n",
      " 0   ID                         70601 non-null  object             \n",
      " 1   STORE_NAME                 68765 non-null  object             \n",
      " 2   PURCHASE_DATE              68535 non-null  datetime64[ns, UTC]\n",
      " 3   PURCHASE_TIME              65654 non-null  datetime64[ns]     \n",
      " 4   DATE_SCANNED               70601 non-null  datetime64[ns, UTC]\n",
      " 5   TOTAL_SPENT                69109 non-null  float64            \n",
      " 6   REWARDS_RECEIPT_STATUS     70601 non-null  object             \n",
      " 7   USER_ID                    70601 non-null  object             \n",
      " 8   USER_VIEWED                64136 non-null  object             \n",
      " 9   PURCHASED_ITEM_COUNT       69149 non-null  float64            \n",
      " 10  CREATE_DATE                70601 non-null  datetime64[ns, UTC]\n",
      " 11  PENDING_DATE               69148 non-null  datetime64[ns, UTC]\n",
      " 12  MODIFY_DATE                70599 non-null  datetime64[ns, UTC]\n",
      " 13  FLAGGED_DATE               4025 non-null   datetime64[ns, UTC]\n",
      " 14  PROCESSED_DATE             0 non-null      datetime64[ns]     \n",
      " 15  FINISHED_DATE              64349 non-null  datetime64[ns, UTC]\n",
      " 16  REJECTED_DATE              4384 non-null   datetime64[ns, UTC]\n",
      " 17  NEEDS_FETCH_REVIEW         325 non-null    object             \n",
      " 18  DIGITAL_RECEIPT            70601 non-null  bool               \n",
      " 19  DELETED                    868 non-null    object             \n",
      " 20  NON_POINT_EARNING_RECEIPT  61615 non-null  object             \n",
      "dtypes: bool(1), datetime64[ns, UTC](8), datetime64[ns](2), float64(2), object(8)\n",
      "memory usage: 10.8+ MB\n",
      "<class 'pandas.core.frame.DataFrame'>\n",
      "RangeIndex: 70601 entries, 0 to 70600\n",
      "Data columns (total 22 columns):\n",
      " #   Column                     Non-Null Count  Dtype              \n",
      "---  ------                     --------------  -----              \n",
      " 0   ID                         70601 non-null  object             \n",
      " 1   STORE_NAME                 68765 non-null  object             \n",
      " 2   PURCHASE_DATE              68535 non-null  datetime64[ns, UTC]\n",
      " 3   PURCHASE_TIME              65654 non-null  timedelta64[ns]    \n",
      " 4   DATE_SCANNED               70601 non-null  datetime64[ns, UTC]\n",
      " 5   TOTAL_SPENT                69109 non-null  float64            \n",
      " 6   REWARDS_RECEIPT_STATUS     70601 non-null  object             \n",
      " 7   USER_ID                    70601 non-null  object             \n",
      " 8   USER_VIEWED                64136 non-null  object             \n",
      " 9   PURCHASED_ITEM_COUNT       69149 non-null  float64            \n",
      " 10  CREATE_DATE                70601 non-null  datetime64[ns, UTC]\n",
      " 11  PENDING_DATE               69148 non-null  datetime64[ns, UTC]\n",
      " 12  MODIFY_DATE                70599 non-null  datetime64[ns, UTC]\n",
      " 13  FLAGGED_DATE               4025 non-null   datetime64[ns, UTC]\n",
      " 14  PROCESSED_DATE             0 non-null      datetime64[ns]     \n",
      " 15  FINISHED_DATE              64349 non-null  datetime64[ns, UTC]\n",
      " 16  REJECTED_DATE              4384 non-null   datetime64[ns, UTC]\n",
      " 17  NEEDS_FETCH_REVIEW         325 non-null    object             \n",
      " 18  DIGITAL_RECEIPT            70601 non-null  bool               \n",
      " 19  DELETED                    868 non-null    object             \n",
      " 20  NON_POINT_EARNING_RECEIPT  61615 non-null  object             \n",
      " 21  purchase_datetime          65428 non-null  datetime64[ns, UTC]\n",
      "dtypes: bool(1), datetime64[ns, UTC](9), datetime64[ns](1), float64(2), object(8), timedelta64[ns](1)\n",
      "memory usage: 11.4+ MB\n"
     ]
    }
   ],
   "source": [
    "import pandas as pd\n",
    "from pathlib import Path\n",
    "from datetime import datetime, time\n",
    "import math\n",
    "import re\n",
    "\n",
    "csv_path = Path('./data/receipts.csv')\n",
    "\n",
    "data = pd.read_csv(csv_path, parse_dates = [\n",
    "    'PURCHASE_DATE',\n",
    "    'PURCHASE_TIME',\n",
    "    'DATE_SCANNED',\n",
    "    'CREATE_DATE',\n",
    "    'PENDING_DATE',\n",
    "    'MODIFY_DATE',\n",
    "    'FLAGGED_DATE',\n",
    "    'PROCESSED_DATE',\n",
    "    'FINISHED_DATE',\n",
    "    'REJECTED_DATE',\n",
    "])\n",
    "data.info()\n",
    "\n",
    "\n",
    "# # Subtract a fixed date to get a timedelta\n",
    "data['PURCHASE_TIME'] = data['PURCHASE_TIME'] - pd.to_datetime('2023-02-19')\n",
    "data['purchase_datetime'] = data['PURCHASE_DATE'] + data['PURCHASE_TIME']\n",
    "# print(data.iloc[0]['PURCHASE_DATE'])\n",
    "# print(data.iloc[0]['PURCHASE_TIME'])\n",
    "# print(data.iloc[0]['purchase_datetime'])\n",
    "data.info()\n"
   ]
  },
  {
   "cell_type": "code",
   "execution_count": 2,
   "metadata": {},
   "outputs": [
    {
     "data": {
      "text/plain": [
       "['ID',\n",
       " 'STORE_NAME',\n",
       " 'PURCHASE_DATE',\n",
       " 'PURCHASE_TIME',\n",
       " 'DATE_SCANNED',\n",
       " 'TOTAL_SPENT',\n",
       " 'REWARDS_RECEIPT_STATUS',\n",
       " 'USER_ID',\n",
       " 'USER_VIEWED',\n",
       " 'PURCHASED_ITEM_COUNT',\n",
       " 'CREATE_DATE',\n",
       " 'PENDING_DATE',\n",
       " 'MODIFY_DATE',\n",
       " 'FLAGGED_DATE',\n",
       " 'PROCESSED_DATE',\n",
       " 'FINISHED_DATE',\n",
       " 'REJECTED_DATE',\n",
       " 'NEEDS_FETCH_REVIEW',\n",
       " 'DIGITAL_RECEIPT',\n",
       " 'DELETED',\n",
       " 'NON_POINT_EARNING_RECEIPT',\n",
       " 'purchase_datetime']"
      ]
     },
     "execution_count": 2,
     "metadata": {},
     "output_type": "execute_result"
    }
   ],
   "source": [
    "data.columns.to_list()"
   ]
  },
  {
   "cell_type": "code",
   "execution_count": 7,
   "metadata": {},
   "outputs": [],
   "source": [
    "column = ['ID',\n",
    " 'STORE_NAME',\n",
    " 'PURCHASE_DATE',\n",
    " 'PURCHASE_TIME',\n",
    " 'DATE_SCANNED',\n",
    " 'TOTAL_SPENT',\n",
    " 'REWARDS_RECEIPT_STATUS',\n",
    " 'USER_ID',\n",
    " 'USER_VIEWED',\n",
    " 'PURCHASED_ITEM_COUNT',\n",
    " 'CREATE_DATE',\n",
    " 'PENDING_DATE',\n",
    " 'MODIFY_DATE',\n",
    " 'FLAGGED_DATE',\n",
    " 'PROCESSED_DATE',\n",
    " 'FINISHED_DATE',\n",
    " 'REJECTED_DATE',\n",
    " 'NEEDS_FETCH_REVIEW',\n",
    " 'DIGITAL_RECEIPT',\n",
    " 'DELETED',\n",
    " 'NON_POINT_EARNING_RECEIPT',\n",
    " 'purchase_datetime']\n",
    "\n",
    "output_column = {value: value.lower() for value in column}\n",
    "output_column\n",
    "\n",
    "data.rename(columns = output_column, inplace = True)"
   ]
  },
  {
   "cell_type": "code",
   "execution_count": 12,
   "metadata": {},
   "outputs": [
    {
     "data": {
      "text/plain": [
       "1    64350\n",
       "2     4593\n",
       "3     1453\n",
       "4      178\n",
       "5       27\n",
       "Name: rewards_receipt_status, dtype: int64"
      ]
     },
     "execution_count": 12,
     "metadata": {},
     "output_type": "execute_result"
    }
   ],
   "source": [
    "reward_status = {\n",
    "    'FINISHED': 1,\n",
    "    'REJECTED': 2,\n",
    "    \"SUBMITTED\": 3,\n",
    "    \"FLAGGED\": 4,\n",
    "    \"PENDING\": 5\n",
    "}\n",
    "\n",
    "# data['rewards_receipt_status'] = data['rewards_receipt_status'].apply(lambda x: reward_status[x])\n",
    "data['rewards_receipt_status'].value_counts()"
   ]
  },
  {
   "cell_type": "code",
   "execution_count": 9,
   "metadata": {},
   "outputs": [],
   "source": [
    "import csv\n",
    "data[['id',\n",
    " 'store_name',\n",
    " 'purchase_datetime',\n",
    " 'date_scanned',\n",
    " 'total_spent',\n",
    " 'rewards_receipt_status',\n",
    " 'user_id',\n",
    " 'user_viewed',\n",
    " 'purchased_item_count',\n",
    " 'create_date',\n",
    " 'pending_date',\n",
    " 'modify_date',\n",
    " 'flagged_date',\n",
    " 'processed_date',\n",
    " 'finished_date',\n",
    " 'rejected_date',\n",
    " 'needs_fetch_review',\n",
    " 'digital_receipt',\n",
    " 'deleted',\n",
    " 'non_point_earning_receipt',\n",
    " ]].to_csv(\"processed/receipts.csv\", index = False, quoting = csv.QUOTE_ALL)\n",
    "\n"
   ]
  }
 ],
 "metadata": {
  "kernelspec": {
   "display_name": "base",
   "language": "python",
   "name": "python3"
  },
  "language_info": {
   "codemirror_mode": {
    "name": "ipython",
    "version": 3
   },
   "file_extension": ".py",
   "mimetype": "text/x-python",
   "name": "python",
   "nbconvert_exporter": "python",
   "pygments_lexer": "ipython3",
   "version": "3.9.13"
  },
  "orig_nbformat": 4,
  "vscode": {
   "interpreter": {
    "hash": "f023b4c2b1297a3ff1fb5aee4850950044fb1d656b16ebfdd0a4b5e96cf3baf0"
   }
  }
 },
 "nbformat": 4,
 "nbformat_minor": 2
}
