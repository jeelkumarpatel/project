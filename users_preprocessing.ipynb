{
 "cells": [
  {
   "cell_type": "code",
   "execution_count": 11,
   "metadata": {},
   "outputs": [],
   "source": [
    "import pandas as pd\n",
    "import csv\n",
    "from pathlib import Path\n",
    "import csv"
   ]
  },
  {
   "cell_type": "code",
   "execution_count": 12,
   "metadata": {},
   "outputs": [
    {
     "name": "stdout",
     "output_type": "stream",
     "text": [
      "<class 'pandas.core.frame.DataFrame'>\n",
      "RangeIndex: 164 entries, 0 to 163\n",
      "Data columns (total 8 columns):\n",
      " #   Column              Non-Null Count  Dtype              \n",
      "---  ------              --------------  -----              \n",
      " 0   CREATED_DATE        164 non-null    datetime64[ns, UTC]\n",
      " 1   BIRTH_DATE          164 non-null    datetime64[ns, UTC]\n",
      " 2   GENDER              164 non-null    object             \n",
      " 3   LAST_REWARDS_LOGIN  164 non-null    datetime64[ns, UTC]\n",
      " 4   STATE               164 non-null    object             \n",
      " 5   SIGN_UP_PLATFORM    119 non-null    object             \n",
      " 6   SIGN_UP_SOURCE      164 non-null    object             \n",
      " 7   ID                  164 non-null    object             \n",
      "dtypes: datetime64[ns, UTC](3), object(5)\n",
      "memory usage: 10.4+ KB\n"
     ]
    }
   ],
   "source": [
    "path = Path('data/users.csv')\n",
    "data = pd.read_csv(path, parse_dates =[\n",
    "    'CREATED_DATE',\n",
    "    'BIRTH_DATE',\n",
    "    'LAST_REWARDS_LOGIN'\n",
    "])\n",
    "data.info()"
   ]
  },
  {
   "cell_type": "code",
   "execution_count": 13,
   "metadata": {},
   "outputs": [
    {
     "data": {
      "text/plain": [
       "['CREATED_DATE',\n",
       " 'BIRTH_DATE',\n",
       " 'GENDER',\n",
       " 'LAST_REWARDS_LOGIN',\n",
       " 'STATE',\n",
       " 'SIGN_UP_PLATFORM',\n",
       " 'SIGN_UP_SOURCE',\n",
       " 'ID']"
      ]
     },
     "execution_count": 13,
     "metadata": {},
     "output_type": "execute_result"
    }
   ],
   "source": [
    "data.columns.to_list()"
   ]
  },
  {
   "cell_type": "code",
   "execution_count": 14,
   "metadata": {},
   "outputs": [
    {
     "name": "stdout",
     "output_type": "stream",
     "text": [
      "dict_values(['created_date', 'birth_date', 'gender', 'last_rewards_login', 'state', 'sign_up_platform', 'sign_up_source', 'id'])\n"
     ]
    }
   ],
   "source": [
    "column = ['CREATED_DATE',\n",
    " 'BIRTH_DATE',\n",
    " 'GENDER',\n",
    " 'LAST_REWARDS_LOGIN',\n",
    " 'STATE',\n",
    " 'SIGN_UP_PLATFORM',\n",
    " 'SIGN_UP_SOURCE',\n",
    " 'ID']\n",
    "\n",
    "output_column = {value: value.lower() for value in column}\n",
    "print(output_column.values())\n",
    "\n",
    "data.rename(columns = output_column, inplace = True)"
   ]
  },
  {
   "cell_type": "code",
   "execution_count": 15,
   "metadata": {},
   "outputs": [],
   "source": [
    "data[[\n",
    "    'id',\n",
    "    'created_date', \n",
    "    'birth_date', \n",
    "    'gender', \n",
    "    'last_rewards_login', \n",
    "    'state', \n",
    "    'sign_up_platform', \n",
    "    'sign_up_source', \n",
    "]].to_csv('processed/users.csv', index = False, quoting = csv.QUOTE_ALL)"
   ]
  }
 ],
 "metadata": {
  "kernelspec": {
   "display_name": "base",
   "language": "python",
   "name": "python3"
  },
  "language_info": {
   "codemirror_mode": {
    "name": "ipython",
    "version": 3
   },
   "file_extension": ".py",
   "mimetype": "text/x-python",
   "name": "python",
   "nbconvert_exporter": "python",
   "pygments_lexer": "ipython3",
   "version": "3.9.13"
  },
  "orig_nbformat": 4,
  "vscode": {
   "interpreter": {
    "hash": "f023b4c2b1297a3ff1fb5aee4850950044fb1d656b16ebfdd0a4b5e96cf3baf0"
   }
  }
 },
 "nbformat": 4,
 "nbformat_minor": 2
}
