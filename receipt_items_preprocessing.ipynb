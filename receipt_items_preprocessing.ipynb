{
 "cells": [
  {
   "cell_type": "code",
   "execution_count": 41,
   "metadata": {},
   "outputs": [],
   "source": [
    "import pandas as pd\n",
    "import csv\n",
    "from pathlib import Path\n",
    "import csv"
   ]
  },
  {
   "cell_type": "code",
   "execution_count": 42,
   "metadata": {},
   "outputs": [
    {
     "name": "stdout",
     "output_type": "stream",
     "text": [
      "<class 'pandas.core.frame.DataFrame'>\n",
      "RangeIndex: 360377 entries, 0 to 360376\n",
      "Data columns (total 12 columns):\n",
      " #   Column                      Non-Null Count   Dtype              \n",
      "---  ------                      --------------   -----              \n",
      " 0   REWARDS_RECEIPT_ID          360377 non-null  object             \n",
      " 1   ITEM_INDEX                  360377 non-null  int64              \n",
      " 2   REWARDS_RECEIPT_ITEM_ID     360377 non-null  object             \n",
      " 3   DESCRIPTION                 359286 non-null  object             \n",
      " 4   BARCODE                     225008 non-null  object             \n",
      " 5   BRAND_CODE                  154887 non-null  object             \n",
      " 6   QUANTITY_PURCHASED          352621 non-null  float64            \n",
      " 7   TOTAL_FINAL_PRICE           359685 non-null  float64            \n",
      " 8   POINTS_EARNED               18952 non-null   float64            \n",
      " 9   REWARDS_GROUP               61937 non-null   object             \n",
      " 10  ORIGINAL_RECEIPT_ITEM_TEXT  358696 non-null  object             \n",
      " 11  MODIFY_DATE                 360377 non-null  datetime64[ns, UTC]\n",
      "dtypes: datetime64[ns, UTC](1), float64(3), int64(1), object(7)\n",
      "memory usage: 33.0+ MB\n"
     ]
    }
   ],
   "source": [
    "path = Path('data/receipt_items.csv')\n",
    "data = pd.read_csv(path, parse_dates =[\n",
    "    'MODIFY_DATE'\n",
    "])\n",
    "data.info()"
   ]
  },
  {
   "cell_type": "code",
   "execution_count": 43,
   "metadata": {},
   "outputs": [
    {
     "data": {
      "text/plain": [
       "['REWARDS_RECEIPT_ID',\n",
       " 'ITEM_INDEX',\n",
       " 'REWARDS_RECEIPT_ITEM_ID',\n",
       " 'DESCRIPTION',\n",
       " 'BARCODE',\n",
       " 'BRAND_CODE',\n",
       " 'QUANTITY_PURCHASED',\n",
       " 'TOTAL_FINAL_PRICE',\n",
       " 'POINTS_EARNED',\n",
       " 'REWARDS_GROUP',\n",
       " 'ORIGINAL_RECEIPT_ITEM_TEXT',\n",
       " 'MODIFY_DATE']"
      ]
     },
     "execution_count": 43,
     "metadata": {},
     "output_type": "execute_result"
    }
   ],
   "source": [
    "data.columns.to_list()"
   ]
  },
  {
   "cell_type": "code",
   "execution_count": 44,
   "metadata": {},
   "outputs": [
    {
     "name": "stdout",
     "output_type": "stream",
     "text": [
      "dict_values(['rewards_receipt_id', 'item_index', 'rewards_receipt_item_id', 'description', 'barcode', 'brand_code', 'quantity_purchased', 'total_final_price', 'points_earned', 'rewards_group', 'original_receipt_item_text', 'modify_date'])\n"
     ]
    }
   ],
   "source": [
    "column = ['REWARDS_RECEIPT_ID',\n",
    " 'ITEM_INDEX',\n",
    " 'REWARDS_RECEIPT_ITEM_ID',\n",
    " 'DESCRIPTION',\n",
    " 'BARCODE',\n",
    " 'BRAND_CODE',\n",
    " 'QUANTITY_PURCHASED',\n",
    " 'TOTAL_FINAL_PRICE',\n",
    " 'POINTS_EARNED',\n",
    " 'REWARDS_GROUP',\n",
    " 'ORIGINAL_RECEIPT_ITEM_TEXT',\n",
    " 'MODIFY_DATE']\n",
    "\n",
    "output_column = {value: value.lower() for value in column}\n",
    "print(output_column.values())\n",
    "\n",
    "data.rename(columns = output_column, inplace = True)"
   ]
  },
  {
   "cell_type": "code",
   "execution_count": 45,
   "metadata": {},
   "outputs": [],
   "source": [
    "column = {\n",
    "    'rewards_receipt_item_id': 'id',\n",
    "    'rewards_receipt_id': 'receipt_id'\n",
    "}\n",
    "data.rename(columns = column, inplace = True)"
   ]
  },
  {
   "cell_type": "code",
   "execution_count": 46,
   "metadata": {},
   "outputs": [
    {
     "data": {
      "text/plain": [
       "['receipt_id',\n",
       " 'item_index',\n",
       " 'id',\n",
       " 'description',\n",
       " 'barcode',\n",
       " 'brand_code',\n",
       " 'quantity_purchased',\n",
       " 'total_final_price',\n",
       " 'points_earned',\n",
       " 'rewards_group',\n",
       " 'original_receipt_item_text',\n",
       " 'modify_date']"
      ]
     },
     "execution_count": 46,
     "metadata": {},
     "output_type": "execute_result"
    }
   ],
   "source": [
    "data.columns.to_list()"
   ]
  },
  {
   "cell_type": "code",
   "execution_count": 47,
   "metadata": {},
   "outputs": [],
   "source": [
    "data['description'] = data['description'].str.replace(',','')\n",
    "data['original_receipt_item_text'] = data['original_receipt_item_text'].str.replace(',','')\n",
    "data['rewards_group'] = data['rewards_group'].str.replace(',','')"
   ]
  },
  {
   "cell_type": "code",
   "execution_count": 48,
   "metadata": {},
   "outputs": [],
   "source": [
    "data[[ \n",
    "    'id',\n",
    "    'receipt_id', \n",
    "    'item_index', \n",
    "    'description', \n",
    "    'barcode', \n",
    "    'brand_code', \n",
    "    'quantity_purchased', \n",
    "    'total_final_price', \n",
    "    'points_earned', \n",
    "    'rewards_group', \n",
    "    'original_receipt_item_text', \n",
    "    'modify_date']].to_csv('processed/receipt_items.csv', index = False, quoting = csv.QUOTE_ALL)"
   ]
  },
  {
   "cell_type": "code",
   "execution_count": 49,
   "metadata": {},
   "outputs": [
    {
     "data": {
      "text/plain": [
       "1.00      13782\n",
       "1.25      10470\n",
       "3.99       7366\n",
       "2.99       7118\n",
       "1.99       6489\n",
       "          ...  \n",
       "62.81         1\n",
       "52.17         1\n",
       "60.63         1\n",
       "498.04        1\n",
       "28.31         1\n",
       "Name: total_final_price, Length: 6631, dtype: int64"
      ]
     },
     "execution_count": 49,
     "metadata": {},
     "output_type": "execute_result"
    }
   ],
   "source": [
    "data['total_final_price'].value_counts()"
   ]
  }
 ],
 "metadata": {
  "kernelspec": {
   "display_name": "base",
   "language": "python",
   "name": "python3"
  },
  "language_info": {
   "codemirror_mode": {
    "name": "ipython",
    "version": 3
   },
   "file_extension": ".py",
   "mimetype": "text/x-python",
   "name": "python",
   "nbconvert_exporter": "python",
   "pygments_lexer": "ipython3",
   "version": "3.9.13"
  },
  "orig_nbformat": 4,
  "vscode": {
   "interpreter": {
    "hash": "f023b4c2b1297a3ff1fb5aee4850950044fb1d656b16ebfdd0a4b5e96cf3baf0"
   }
  }
 },
 "nbformat": 4,
 "nbformat_minor": 2
}
